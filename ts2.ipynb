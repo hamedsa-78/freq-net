{
 "cells": [
  {
   "cell_type": "code",
   "execution_count": 1,
   "metadata": {},
   "outputs": [
    {
     "name": "stdout",
     "output_type": "stream",
     "text": [
      "/h/DIP_Project/freq-net\n"
     ]
    }
   ],
   "source": [
    "! pwd"
   ]
  },
  {
   "cell_type": "code",
   "execution_count": 19,
   "metadata": {},
   "outputs": [],
   "source": [
    "from freq_net.model.model import FreqNet\n",
    "\n",
    "model = FreqNet(n_resgroups=2 , n_depthwise_resgroups=1)\n"
   ]
  },
  {
   "cell_type": "code",
   "execution_count": 20,
   "metadata": {},
   "outputs": [
    {
     "name": "stdout",
     "output_type": "stream",
     "text": [
      "The model has 4785300 parameters.\n"
     ]
    }
   ],
   "source": [
    "num_params = sum(p.numel() for p in model.parameters())\n",
    "print(f\"The model has {num_params} parameters.\")"
   ]
  },
  {
   "cell_type": "code",
   "execution_count": 7,
   "metadata": {},
   "outputs": [
    {
     "name": "stdout",
     "output_type": "stream",
     "text": [
      "Epoch: 0 LR: [9.969227897315154e-05]\n",
      "Epoch: 1 LR: [9.892617491781443e-05]\n",
      "Epoch: 2 LR: [9.78606192181775e-05]\n",
      "Epoch: 3 LR: [9.65021725569934e-05]\n",
      "Epoch: 4 LR: [9.485920129114447e-05]\n",
      "Epoch: 5 LR: [9.294182581290316e-05]\n",
      "Epoch: 6 LR: [9.076185809356374e-05]\n",
      "Epoch: 7 LR: [8.833272879305292e-05]\n",
      "Epoch: 8 LR: [8.566940438323978e-05]\n",
      "Epoch: 9 LR: [8.278829479393439e-05]\n",
      "Epoch: 10 LR: [7.970715214858904e-05]\n",
      "Epoch: 11 LR: [7.644496121110682e-05]\n",
      "Epoch: 12 LR: [7.302182221554001e-05]\n",
      "Epoch: 13 LR: [6.945882679644932e-05]\n",
      "Epoch: 14 LR: [6.577792777892597e-05]\n",
      "Epoch: 15 LR: [6.200180362336418e-05]\n",
      "Epoch: 16 LR: [5.815371835060636e-05]\n",
      "Epoch: 17 LR: [5.425737779760416e-05]\n",
      "Epoch: 18 LR: [5.0336783071686705e-05]\n",
      "Epoch: 19 LR: [4.641608208217583e-05]\n",
      "Epoch: 20 LR: [4.251942003042473e-05]\n",
      "Epoch: 21 LR: [3.867078973188178e-05]\n",
      "Epoch: 22 LR: [3.489388262417613e-05]\n",
      "Epoch: 23 LR: [3.121194127974117e-05]\n",
      "Epoch: 24 LR: [2.7647614183904264e-05]\n",
      "Epoch: 25 LR: [2.4222813448968933e-05]\n",
      "Epoch: 26 LR: [2.0958575992631705e-05]\n",
      "Epoch: 27 LR: [1.7874928480411023e-05]\n",
      "Epoch: 28 LR: [1.4990755950803666e-05]\n",
      "Epoch: 29 LR: [1.232367337866074e-05]\n",
      "Epoch: 30 LR: [9.88989821803609e-06]\n",
      "Epoch: 31 LR: [7.704119614329178e-06]\n",
      "Epoch: 32 LR: [5.779355126240013e-06]\n",
      "Epoch: 33 LR: [4.126775050241077e-06]\n",
      "Epoch: 34 LR: [2.7554485036946464e-06]\n",
      "Epoch: 35 LR: [1.6718959772049711e-06]\n",
      "Epoch: 36 LR: [8.791209572770758e-07]\n",
      "Epoch: 37 LR: [3.7402270012153775e-07]\n",
      "Epoch: 38 LR: [1.385542199041365e-07]\n",
      "Epoch: 39 LR: [1e-07]\n"
     ]
    }
   ],
   "source": [
    "import torch\n",
    "import torch.optim as optim\n",
    "from torch.optim.lr_scheduler import CosineAnnealingLR\n",
    "import torch.nn as nn\n",
    "import torch.nn.functional as F\n",
    "\n",
    "\n",
    "def cossine_lr(optimizer, t_max, eta_min):\n",
    "    \"\"\"\n",
    "    eta_max will be the learning rate of optimizer\n",
    "    \"\"\"\n",
    "    return CosineAnnealingLR(optimizer=optimizer, T_max=t_max, eta_min=eta_min)\n",
    "\n",
    "\n",
    "class SimpleModel(nn.Module):\n",
    "    def __init__(self, input_size=1, output_size=1):\n",
    "        super(SimpleModel, self).__init__()\n",
    "        self.fc1 = nn.Linear(input_size, output_size)\n",
    "\n",
    "    def forward(self, x):\n",
    "        x = F.relu(self.fc1(x))\n",
    "        return x\n",
    "\n",
    "\n",
    "model = SimpleModel()\n",
    "optimizer = optim.Adam(model.parameters(), lr = 1e-4 , betas = (0.9 , 0.99) , eps = 1e-8)\n",
    "\n",
    "# Define the CosLR scheduler\n",
    "scheduler = cossine_lr(optimizer,  t_max = 40 , eta_min = 1e-7)\n",
    "\n",
    "\n",
    "# Train the model\n",
    "for epoch in range(40):\n",
    "    # Train the model for one epoch\n",
    "    train_loss = ...\n",
    "\n",
    "    # Update the learning rate using the scheduler\n",
    "    scheduler.step()\n",
    "\n",
    "    # Print the current learning rate\n",
    "    print(\"Epoch:\", epoch, \"LR:\", scheduler.get_lr())"
   ]
  }
 ],
 "metadata": {
  "kernelspec": {
   "display_name": "myenv",
   "language": "python",
   "name": "python3"
  },
  "language_info": {
   "codemirror_mode": {
    "name": "ipython",
    "version": 3
   },
   "file_extension": ".py",
   "mimetype": "text/x-python",
   "name": "python",
   "nbconvert_exporter": "python",
   "pygments_lexer": "ipython3",
   "version": "3.9.12"
  },
  "orig_nbformat": 4
 },
 "nbformat": 4,
 "nbformat_minor": 2
}
